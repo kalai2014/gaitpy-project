{
 "cells": [
  {
   "cell_type": "code",
   "execution_count": 5,
   "id": "e14efebe",
   "metadata": {},
   "outputs": [
    {
     "ename": "ModuleNotFoundError",
     "evalue": "No module named 'pandas'",
     "output_type": "error",
     "traceback": [
      "\u001b[0;31m---------------------------------------------------------------------------\u001b[0m",
      "\u001b[0;31mModuleNotFoundError\u001b[0m                       Traceback (most recent call last)",
      "Cell \u001b[0;32mIn [5], line 2\u001b[0m\n\u001b[1;32m      1\u001b[0m \u001b[38;5;28;01mimport\u001b[39;00m \u001b[38;5;21;01mos\u001b[39;00m\n\u001b[0;32m----> 2\u001b[0m \u001b[38;5;28;01mimport\u001b[39;00m \u001b[38;5;21;01mpandas\u001b[39;00m \u001b[38;5;28;01mas\u001b[39;00m \u001b[38;5;21;01mpd\u001b[39;00m\n\u001b[1;32m      3\u001b[0m \u001b[38;5;28;01mimport\u001b[39;00m \u001b[38;5;21;01mwarnings\u001b[39;00m\n\u001b[1;32m      4\u001b[0m warnings\u001b[38;5;241m.\u001b[39msimplefilter(action\u001b[38;5;241m=\u001b[39m\u001b[38;5;124m'\u001b[39m\u001b[38;5;124mignore\u001b[39m\u001b[38;5;124m'\u001b[39m, category\u001b[38;5;241m=\u001b[39m\u001b[38;5;167;01mFutureWarning\u001b[39;00m)\n",
      "\u001b[0;31mModuleNotFoundError\u001b[0m: No module named 'pandas'"
     ]
    }
   ],
   "source": [
    "import os\n",
    "import pandas as pd\n",
    "import warnings\n",
    "warnings.simplefilter(action='ignore', category=FutureWarning)\n",
    "warnings.simplefilter(action='ignore', category=UserWarning)\n",
    "import numpy as np\n",
    "import time\n",
    "from datetime import datetime\n",
    "from gaitpy.gait import *\n",
    "import sklearn as sk"
   ]
  },
  {
   "cell_type": "code",
   "execution_count": 2,
   "id": "e15ad067",
   "metadata": {},
   "outputs": [
    {
     "name": "stdout",
     "output_type": "stream",
     "text": [
      "                           Timestamp   Accelerometer X  Accelerometer Y  \\\n",
      "0        2022-10-18T09:00:00.0000000         -0.189453        -0.960938   \n",
      "1        2022-10-18T09:00:00.0100000         -0.192871        -0.957520   \n",
      "2        2022-10-18T09:00:00.0200000         -0.198242        -0.960449   \n",
      "3        2022-10-18T09:00:00.0300000         -0.200684        -0.959473   \n",
      "4        2022-10-18T09:00:00.0400000         -0.200684        -0.958984   \n",
      "...                              ...               ...              ...   \n",
      "1048560  2022-10-18T11:54:45.6000000         -0.312012        -0.965820   \n",
      "1048561  2022-10-18T11:54:45.6100000         -0.310059        -0.964844   \n",
      "1048562  2022-10-18T11:54:45.6200000         -0.316895        -0.961426   \n",
      "1048563  2022-10-18T11:54:45.6300000         -0.314453        -0.960938   \n",
      "1048564  2022-10-18T11:54:45.6400000         -0.313477        -0.959961   \n",
      "\n",
      "         Accelerometer Z   \n",
      "0               -0.215332  \n",
      "1               -0.213379  \n",
      "2               -0.213379  \n",
      "3               -0.217285  \n",
      "4               -0.211914  \n",
      "...                   ...  \n",
      "1048560          0.057617  \n",
      "1048561          0.055664  \n",
      "1048562          0.047852  \n",
      "1048563          0.046387  \n",
      "1048564          0.051270  \n",
      "\n",
      "[1048565 rows x 4 columns]\n",
      "                           Timestamp   Accelerometer X  Accelerometer Y  \\\n",
      "0        2022-10-18T09:00:00.0000000         -0.189453        -0.960938   \n",
      "1        2022-10-18T09:00:00.0100000         -0.192871        -0.957520   \n",
      "2        2022-10-18T09:00:00.0200000         -0.198242        -0.960449   \n",
      "3        2022-10-18T09:00:00.0300000         -0.200684        -0.959473   \n",
      "4        2022-10-18T09:00:00.0400000         -0.200684        -0.958984   \n",
      "...                              ...               ...              ...   \n",
      "1048560  2022-10-18T11:54:45.6000000         -0.312012        -0.965820   \n",
      "1048561  2022-10-18T11:54:45.6100000         -0.310059        -0.964844   \n",
      "1048562  2022-10-18T11:54:45.6200000         -0.316895        -0.961426   \n",
      "1048563  2022-10-18T11:54:45.6300000         -0.314453        -0.960938   \n",
      "1048564  2022-10-18T11:54:45.6400000         -0.313477        -0.959961   \n",
      "\n",
      "         Accelerometer Z   unix_timestamps  \n",
      "0               -0.215332       1666083600  \n",
      "1               -0.213379       1666083600  \n",
      "2               -0.213379       1666083600  \n",
      "3               -0.217285       1666083600  \n",
      "4               -0.211914       1666083600  \n",
      "...                   ...              ...  \n",
      "1048560          0.057617       1666094085  \n",
      "1048561          0.055664       1666094085  \n",
      "1048562          0.047852       1666094085  \n",
      "1048563          0.046387       1666094085  \n",
      "1048564          0.051270       1666094085  \n",
      "\n",
      "[1048565 rows x 5 columns]\n"
     ]
    }
   ],
   "source": [
    "data = pd.read_csv('/Users/k/Downloads/IMU-data-10-18-2022.csv', skiprows = 1,names = ['Timestamp',' Accelerometer X','Accelerometer Y','Accelerometer Z '], usecols=[0,1,2,3])\n",
    "print(data)\n",
    "data['unix_timestamps'] = pd.to_datetime(data.Timestamp, format = \"%Y-%m-%dT%H:%M:%S\").values.astype(np.int64) // 10**9\n",
    "print(data)\n",
    "sample_rate = 50 \n",
    "subject_height = 177  \n"
   ]
  },
  {
   "cell_type": "code",
   "execution_count": 3,
   "id": "502b9034",
   "metadata": {},
   "outputs": [
    {
     "name": "stdout",
     "output_type": "stream",
     "text": [
      "\tClassifying bouts of gait...\n"
     ]
    },
    {
     "ename": "ModuleNotFoundError",
     "evalue": "No module named 'sklearn.ensemble.forest'",
     "output_type": "error",
     "traceback": [
      "\u001b[0;31m---------------------------------------------------------------------------\u001b[0m",
      "\u001b[0;31mModuleNotFoundError\u001b[0m                       Traceback (most recent call last)",
      "\u001b[0;32m/var/folders/2t/70lvb7_n5j1blj1_wr8ttfb80000gn/T/ipykernel_3079/857156158.py\u001b[0m in \u001b[0;36m<module>\u001b[0;34m\u001b[0m\n\u001b[1;32m      1\u001b[0m \u001b[0mgait\u001b[0m \u001b[0;34m=\u001b[0m \u001b[0mGaitpy\u001b[0m\u001b[0;34m(\u001b[0m\u001b[0mdata\u001b[0m\u001b[0;34m,\u001b[0m\u001b[0msample_rate\u001b[0m\u001b[0;34m)\u001b[0m\u001b[0;34m\u001b[0m\u001b[0;34m\u001b[0m\u001b[0m\n\u001b[0;32m----> 2\u001b[0;31m \u001b[0mgait_bouts\u001b[0m \u001b[0;34m=\u001b[0m \u001b[0mGaitpy\u001b[0m\u001b[0;34m.\u001b[0m\u001b[0mclassify_bouts\u001b[0m\u001b[0;34m(\u001b[0m\u001b[0;34m'/Users/k/Downloads/Extracted/classify_bouts.h5'\u001b[0m\u001b[0;34m)\u001b[0m\u001b[0;34m\u001b[0m\u001b[0;34m\u001b[0m\u001b[0m\n\u001b[0m",
      "\u001b[0;32m~/opt/anaconda3/lib/python3.9/site-packages/gaitpy-1.6.0-py3.9.egg/gaitpy/gait.py\u001b[0m in \u001b[0;36mclassify_bouts\u001b[0;34m(self, result_file)\u001b[0m\n\u001b[1;32m    336\u001b[0m         \u001b[0mmodel_filename\u001b[0m \u001b[0;34m=\u001b[0m \u001b[0mos\u001b[0m\u001b[0;34m.\u001b[0m\u001b[0mpath\u001b[0m\u001b[0;34m.\u001b[0m\u001b[0mdirname\u001b[0m\u001b[0;34m(\u001b[0m\u001b[0mos\u001b[0m\u001b[0;34m.\u001b[0m\u001b[0mpath\u001b[0m\u001b[0;34m.\u001b[0m\u001b[0mrealpath\u001b[0m\u001b[0;34m(\u001b[0m\u001b[0m__file__\u001b[0m\u001b[0;34m)\u001b[0m\u001b[0;34m)\u001b[0m \u001b[0;34m+\u001b[0m \u001b[0;34m'/model/model.pkl'\u001b[0m\u001b[0;34m\u001b[0m\u001b[0;34m\u001b[0m\u001b[0m\n\u001b[1;32m    337\u001b[0m         \u001b[0mfeatures_filename\u001b[0m \u001b[0;34m=\u001b[0m \u001b[0mos\u001b[0m\u001b[0;34m.\u001b[0m\u001b[0mpath\u001b[0m\u001b[0;34m.\u001b[0m\u001b[0mdirname\u001b[0m\u001b[0;34m(\u001b[0m\u001b[0mos\u001b[0m\u001b[0;34m.\u001b[0m\u001b[0mpath\u001b[0m\u001b[0;34m.\u001b[0m\u001b[0mrealpath\u001b[0m\u001b[0;34m(\u001b[0m\u001b[0m__file__\u001b[0m\u001b[0;34m)\u001b[0m\u001b[0;34m)\u001b[0m \u001b[0;34m+\u001b[0m \u001b[0;34m'/model/feature_order.txt'\u001b[0m\u001b[0;34m\u001b[0m\u001b[0;34m\u001b[0m\u001b[0m\n\u001b[0;32m--> 338\u001b[0;31m         \u001b[0mmodel\u001b[0m \u001b[0;34m=\u001b[0m \u001b[0mpickle\u001b[0m\u001b[0;34m.\u001b[0m\u001b[0mload\u001b[0m\u001b[0;34m(\u001b[0m\u001b[0mopen\u001b[0m\u001b[0;34m(\u001b[0m\u001b[0mmodel_filename\u001b[0m\u001b[0;34m,\u001b[0m \u001b[0;34m'rb'\u001b[0m\u001b[0;34m)\u001b[0m\u001b[0;34m)\u001b[0m\u001b[0;34m\u001b[0m\u001b[0;34m\u001b[0m\u001b[0m\n\u001b[0m\u001b[1;32m    339\u001b[0m         \u001b[0mfeature_order\u001b[0m \u001b[0;34m=\u001b[0m \u001b[0mopen\u001b[0m\u001b[0;34m(\u001b[0m\u001b[0mfeatures_filename\u001b[0m\u001b[0;34m,\u001b[0m \u001b[0;34m'r'\u001b[0m\u001b[0;34m)\u001b[0m\u001b[0;34m.\u001b[0m\u001b[0mread\u001b[0m\u001b[0;34m(\u001b[0m\u001b[0;34m)\u001b[0m\u001b[0;34m.\u001b[0m\u001b[0msplitlines\u001b[0m\u001b[0;34m(\u001b[0m\u001b[0;34m)\u001b[0m\u001b[0;34m\u001b[0m\u001b[0;34m\u001b[0m\u001b[0m\n\u001b[1;32m    340\u001b[0m \u001b[0;34m\u001b[0m\u001b[0m\n",
      "\u001b[0;31mModuleNotFoundError\u001b[0m: No module named 'sklearn.ensemble.forest'"
     ]
    }
   ],
   "source": [
    "gait = Gaitpy(data,sample_rate)\n",
    "gait_bouts = Gaitpy.classify_bouts('/Users/k/Downloads/Extracted/classify_bouts.h5')\n"
   ]
  },
  {
   "cell_type": "code",
   "execution_count": null,
   "id": "34d3deda",
   "metadata": {},
   "outputs": [],
   "source": [
    "\n",
    "\n",
    "\n",
    "gait = Gaitpy(data,\n",
    "                125,\n",
    "                v_acc_col_name='y',\n",
    "                ts_col_name='unix_timestamps',\n",
    "                v_acc_units='g',\n",
    "                ts_units='ms',\n",
    "                flip=False)\n",
    "\n",
    "gait_features = gait.extract_features(\n",
    "                                        subject_height_units='centimeters',\n",
    "                                        result_file=os.path.join('/Users/k/Downloads/Extracted','gait_features.csv'),\n",
    "                                        classified_gait = gait_bouts)\n",
    "print(gait_features)\n",
    "\n",
    "#### Plot results of gait feature extraction ####\n",
    "gaitpy.plot_contacts(gait_features, result_file=os.path.join(dst, 'plot_contacts.html'), show_plot=False)\n"
   ]
  },
  {
   "cell_type": "code",
   "execution_count": null,
   "id": "88e1ee90",
   "metadata": {},
   "outputs": [],
   "source": []
  },
  {
   "cell_type": "code",
   "execution_count": null,
   "id": "9cb0f43e",
   "metadata": {},
   "outputs": [],
   "source": []
  },
  {
   "cell_type": "code",
   "execution_count": null,
   "id": "57db860b",
   "metadata": {},
   "outputs": [],
   "source": []
  },
  {
   "cell_type": "code",
   "execution_count": null,
   "id": "e66c2891",
   "metadata": {},
   "outputs": [],
   "source": []
  },
  {
   "cell_type": "code",
   "execution_count": null,
   "id": "efee9cd8",
   "metadata": {},
   "outputs": [],
   "source": []
  },
  {
   "cell_type": "code",
   "execution_count": null,
   "id": "0674a7a5",
   "metadata": {},
   "outputs": [],
   "source": []
  },
  {
   "cell_type": "code",
   "execution_count": null,
   "id": "c9f5bab6",
   "metadata": {},
   "outputs": [],
   "source": []
  }
 ],
 "metadata": {
  "kernelspec": {
   "display_name": "Python 3.9.6 64-bit",
   "language": "python",
   "name": "python3"
  },
  "language_info": {
   "codemirror_mode": {
    "name": "ipython",
    "version": 3
   },
   "file_extension": ".py",
   "mimetype": "text/x-python",
   "name": "python",
   "nbconvert_exporter": "python",
   "pygments_lexer": "ipython3",
   "version": "3.9.6"
  },
  "vscode": {
   "interpreter": {
    "hash": "31f2aee4e71d21fbe5cf8b01ff0e069b9275f58929596ceb00d14d90e3e16cd6"
   }
  }
 },
 "nbformat": 4,
 "nbformat_minor": 5
}
